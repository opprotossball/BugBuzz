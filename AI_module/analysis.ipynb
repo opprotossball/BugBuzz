{
 "cells": [
  {
   "cell_type": "code",
   "execution_count": 40,
   "metadata": {},
   "outputs": [],
   "source": [
    "import pandas as pd\n",
    "import numpy as np\n",
    "import matplotlib.pyplot as plt\n",
    "import math"
   ]
  },
  {
   "cell_type": "code",
   "execution_count": 41,
   "metadata": {},
   "outputs": [],
   "source": [
    "#path = \"Data/randomBotTournament03_06_14_35_07.csv\"\n",
    "#path = \"Data/AproxVsAprox03_10_13_13_31.csv\"\n",
    "path = \"Data/WhiteAproxBlackRandom03_10_13_45_48.csv\"\n",
    "data = pd.read_csv(path)[[\"Winner\", \"NTurns\"]]\n",
    "data[\"NTurns\"] = [math.ceil(n / 6) for n in data[\"NTurns\"]]"
   ]
  },
  {
   "cell_type": "code",
   "execution_count": 42,
   "metadata": {},
   "outputs": [
    {
     "name": "stdout",
     "output_type": "stream",
     "text": [
      "White winrate: 4.81%\n",
      "Black winrate: 24.04%\n",
      "Draws: 71.15%\n"
     ]
    }
   ],
   "source": [
    "c_wins = len(data[data[\"Winner\"] == 'C'])\n",
    "b_wins = len(data[data[\"Winner\"] == 'B'])\n",
    "draws = len(data[data[\"Winner\"] == 'D'])\n",
    "print(f\"White winrate: {round(b_wins / data.shape[0] * 100, 2)}%\")\n",
    "print(f\"Black winrate: {round(c_wins / data.shape[0] * 100, 2)}%\")\n",
    "print(f\"Draws: {round(draws / data.shape[0] * 100, 2)}%\")"
   ]
  },
  {
   "cell_type": "code",
   "execution_count": 43,
   "metadata": {},
   "outputs": [],
   "source": [
    "sides = {\n",
    "    'B': \"White\", \n",
    "    'C': \"Black\"\n",
    "}"
   ]
  },
  {
   "cell_type": "code",
   "execution_count": 44,
   "metadata": {},
   "outputs": [
    {
     "data": {
      "image/png": "[encoded data removed]",
      "text/plain": [
       "<Figure size 640x480 with 1 Axes>"
      ]
     },
     "metadata": {},
     "output_type": "display_data"
    }
   ],
   "source": [
    "plt.title(\"Game length\")\n",
    "for s in ['B', 'C']:\n",
    "    d = data[data[\"Winner\"] == s]\n",
    "    counts, bins =  np.histogram(d[\"NTurns\"], bins='auto')\n",
    "    plt.stairs(counts, bins, label=f\"{sides[s]} wins\")\n",
    "    plt.legend()"
   ]
  },
  {
   "cell_type": "code",
   "execution_count": 47,
   "metadata": {},
   "outputs": [
    {
     "name": "stdout",
     "output_type": "stream",
     "text": [
      "White win avarage game length: 28.2\n",
      "Black win avarage game length: 33.6\n"
     ]
    }
   ],
   "source": [
    "for s in ['B', 'C']:\n",
    "    v = data[data[\"Winner\"] == s][\"NTurns\"].mean()\n",
    "    print(f\"{sides[s]} win avarage game length: {round(v, 2)}\")"
   ]
  },
  {
   "cell_type": "code",
   "execution_count": 48,
   "metadata": {},
   "outputs": [
    {
     "name": "stdout",
     "output_type": "stream",
     "text": [
      "White win median game length: 17.0\n",
      "Black win median game length: 33.0\n"
     ]
    }
   ],
   "source": [
    "for s in ['B', 'C']:\n",
    "    v = data[data[\"Winner\"] == s][\"NTurns\"].median()\n",
    "    print(f\"{sides[s]} win median game length: {round(v, 2)}\")"
   ]
  }
 ],
 "metadata": {
  "kernelspec": {
   "display_name": "Python 3",
   "language": "python",
   "name": "python3"
  },
  "language_info": {
   "codemirror_mode": {
    "name": "ipython",
    "version": 3
   },
   "file_extension": ".py",
   "mimetype": "text/x-python",
   "name": "python",
   "nbconvert_exporter": "python",
   "pygments_lexer": "ipython3",
   "version": "3.11.2"
  },
  "orig_nbformat": 4
 },
 "nbformat": 4,
 "nbformat_minor": 2
}
